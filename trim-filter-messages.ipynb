{
 "cells": [
  {
   "cell_type": "markdown",
   "id": "fb0ebaf1",
   "metadata": {},
   "source": [
    "[![Open in Colab](https://colab.research.google.com/assets/colab-badge.svg)](https://colab.research.google.com/github/langchain-ai/langchain-academy/blob/main/module-2/trim-filter-messages.ipynb) [![Open in LangChain Academy](https://cdn.prod.website-files.com/65b8cd72835ceeacd4449a53/66e9eba12c7b7688aa3dbb5e_LCA-badge-green.svg)](https://academy.langchain.com/courses/take/intro-to-langgraph/lessons/58239435-lesson-4-trim-and-filter-messages)"
   ]
  },
  {
   "cell_type": "markdown",
   "id": "c52ea2f9-03ff-4647-b782-46867ebed04e",
   "metadata": {},
   "source": [
    "# Filtering and trimming messages\n",
    "\n",
    "## Review\n",
    "\n",
    "Now, we have a deeper understanding of a few things: \n",
    "\n",
    "* How to customize the graph state schema\n",
    "* How to define custom state reducers\n",
    "* How to use multiple graph state schemas\n",
    "\n",
    "## Goals\n",
    "\n",
    "Now, we can start using these concepts with models in LangGraph!\n",
    " \n",
    "In the next few sessions, we'll build towards a chatbot that has long-term memory.\n",
    "\n",
    "Because our chatbot will use messages, let's first talk a bit more about advanced ways to work with messages in graph state."
   ]
  },
  {
   "cell_type": "code",
   "execution_count": null,
   "id": "d5197aba-5d46-421b-ae3b-4e3034edcfda",
   "metadata": {},
   "outputs": [],
   "source": [
    "%%capture --no-stderr\n",
    "%pip install --quiet -U langchain_core langgraph langchain_openai"
   ]
  },
  {
   "cell_type": "code",
   "execution_count": 1,
   "id": "768dc606-d5f2-468d-96ea-910b264e0f8a",
   "metadata": {},
   "outputs": [
    {
     "name": "stdin",
     "output_type": "stream",
     "text": [
      "GROQ_API_KEY:  ········\n"
     ]
    }
   ],
   "source": [
    "import os, getpass\n",
    "\n",
    "def _set_env(var: str):\n",
    "    if not os.environ.get(var):\n",
    "        os.environ[var] = getpass.getpass(f\"{var}: \")\n",
    "\n",
    "_set_env(\"GROQ_API_KEY\")"
   ]
  },
  {
   "cell_type": "markdown",
   "id": "8b64d8d3-e4ac-4961-bdc0-688825eb5864",
   "metadata": {},
   "source": [
    "We'll use [LangSmith](https://docs.smith.langchain.com/) for [tracing](https://docs.smith.langchain.com/concepts/tracing).\n",
    "\n",
    "We'll log to a project, `langchain-academy`. "
   ]
  },
  {
   "cell_type": "code",
   "execution_count": 2,
   "id": "dd020c79",
   "metadata": {},
   "outputs": [
    {
     "name": "stdin",
     "output_type": "stream",
     "text": [
      "LANGSMITH_API_KEY:  ········\n"
     ]
    }
   ],
   "source": [
    "_set_env(\"LANGSMITH_API_KEY\")\n",
    "os.environ[\"LANGSMITH_TRACING\"] = \"true\"\n",
    "os.environ[\"LANGSMITH_PROJECT\"] = \"langchain-academy\""
   ]
  },
  {
   "cell_type": "markdown",
   "id": "72f3fc90-58b6-4f7f-897e-dddf6ae532c7",
   "metadata": {},
   "source": [
    "## Messages as state\n",
    "\n",
    "First, let's define some messages."
   ]
  },
  {
   "cell_type": "code",
   "execution_count": 10,
   "id": "cf11a463-e27a-4a05-b41d-64882e38edca",
   "metadata": {},
   "outputs": [
    {
     "name": "stdout",
     "output_type": "stream",
     "text": [
      "==================================\u001b[1m Ai Message \u001b[0m==================================\n",
      "Name: Bot\n",
      "\n",
      "So you said you were researching Reichenbach's cosmological argument?\n",
      "================================\u001b[1m Human Message \u001b[0m=================================\n",
      "Name: Lance\n",
      "\n",
      "Yes, I know the gist of it. But what specifics should I learn about?\n"
     ]
    }
   ],
   "source": [
    "from pprint import pprint\n",
    "from langchain_core.messages import AIMessage, HumanMessage\n",
    "messages = [AIMessage(f\"So you said you were researching Reichenbach's cosmological argument?\", name=\"Bot\")]\n",
    "messages.append(HumanMessage(f\"Yes, I know the gist of it. But what specifics should I learn about?\", name=\"Lance\"))\n",
    "\n",
    "for m in messages:\n",
    "    m.pretty_print()"
   ]
  },
  {
   "cell_type": "markdown",
   "id": "b814adcb-6bf9-4b75-be11-e59f933fbd0c",
   "metadata": {},
   "source": [
    "Recall we can pass them to a chat model."
   ]
  },
  {
   "cell_type": "code",
   "execution_count": 11,
   "id": "4712e288-e622-48a2-ad3f-a52f65f3ab08",
   "metadata": {},
   "outputs": [
    {
     "data": {
      "text/plain": [
       "AIMessage(content='Reichenbach\\'s cosmological argument is a version of the cosmological argument, which attempts to prove the existence of God based on the existence of the universe. Here are some key specifics you may want to learn about:\\n\\n1. **The argument\\'s structure**: Reichenbach\\'s argument is often formulated as follows:\\n\\t* Whatever begins to exist has a cause.\\n\\t* The universe began to exist.\\n\\t* Therefore, the universe has a cause.\\n\\t* This cause is God.\\n2. **The concept of \"beginning to exist\"**: Reichenbach\\'s argument relies on the idea that the universe had a beginning, often referred to as the \"Big Bang.\" You may want to explore the scientific evidence for this event and its implications for cosmology.\\n3. **The cosmological principle**: Reichenbach\\'s argument also relies on the cosmological principle, which states that the universe is homogeneous and isotropic on large scales. This principle is supported by a wide range of observational evidence, including the cosmic microwave background radiation.\\n4. **The concept of causality**: Reichenbach\\'s argument assumes that whatever begins to exist must have a cause. You may want to explore the concept of causality and its relationship to time, space, and the laws of physics.\\n5. **The problem of infinite regress**: One of the challenges to Reichenbach\\'s argument is the problem of infinite regress, which suggests that if everything that begins to exist has a cause, then the cause of the universe must also have a cause, and so on ad infinitum. You may want to explore how Reichenbach responds to this challenge.\\n6. **Alternative explanations**: You may also want to consider alternative explanations for the origin of the universe, such as the multiverse hypothesis or eternal inflation. These theories propose that our universe is just one of many, and that the concept of a \"beginning\" may not be applicable.\\n7. **Philosophical implications**: Finally, you may want to explore the philosophical implications of Reichenbach\\'s argument, including its relationship to the concept of God, the nature of causality, and the limits of human knowledge.\\n\\nBy exploring these topics, you can gain a deeper understanding of Reichenbach\\'s cosmological argument and its place within the broader context of philosophical and scientific debates about the origin and nature of the universe.', additional_kwargs={}, response_metadata={'token_usage': {'completion_tokens': 475, 'prompt_tokens': 71, 'total_tokens': 546, 'completion_time': 1.116774484, 'prompt_time': 0.004380362, 'queue_time': 0.055844348, 'total_time': 1.121154846}, 'model_name': 'llama-3.3-70b-versatile', 'system_fingerprint': 'fp_6507bcfb6f', 'service_tier': 'on_demand', 'finish_reason': 'stop', 'logprobs': None}, id='run--2704ae5d-79af-4e48-9265-a57498246af7-0', usage_metadata={'input_tokens': 71, 'output_tokens': 475, 'total_tokens': 546})"
      ]
     },
     "execution_count": 11,
     "metadata": {},
     "output_type": "execute_result"
    }
   ],
   "source": [
    "from langchain_groq import ChatGroq\n",
    "llm = ChatGroq(model_name=\"llama-3.3-70b-versatile\")\n",
    "llm.invoke(messages)"
   ]
  },
  {
   "cell_type": "markdown",
   "id": "fbd1dab8-0af8-4621-8264-ce65065f76ec",
   "metadata": {},
   "source": [
    "We can run our chat model in a simple graph with `MessagesState`."
   ]
  },
  {
   "cell_type": "code",
   "execution_count": 12,
   "id": "bbd8c39c-633b-4176-9cc6-8318e42bb5dd",
   "metadata": {},
   "outputs": [
    {
     "data": {
      "image/png": "[encoded data removed]",
      "text/plain": [
       "<IPython.core.display.Image object>"
      ]
     },
     "metadata": {},
     "output_type": "display_data"
    }
   ],
   "source": [
    "from IPython.display import Image, display\n",
    "from langgraph.graph import MessagesState\n",
    "from langgraph.graph import StateGraph, START, END\n",
    "\n",
    "# Node\n",
    "def chat_model_node(state: MessagesState):\n",
    "    return {\"messages\": llm.invoke(state[\"messages\"])}\n",
    "\n",
    "# Build graph\n",
    "builder = StateGraph(MessagesState)\n",
    "builder.add_node(\"chat_model\", chat_model_node)\n",
    "builder.add_edge(START, \"chat_model\")\n",
    "builder.add_edge(\"chat_model\", END)\n",
    "graph = builder.compile()\n",
    "\n",
    "# View\n",
    "display(Image(graph.get_graph().draw_mermaid_png()))"
   ]
  },
  {
   "cell_type": "code",
   "execution_count": 13,
   "id": "3a5a3e4a-ccfd-4d14-81f1-f0de6e11a1e4",
   "metadata": {},
   "outputs": [
    {
     "name": "stdout",
     "output_type": "stream",
     "text": [
      "==================================\u001b[1m Ai Message \u001b[0m==================================\n",
      "Name: Bot\n",
      "\n",
      "So you said you were researching Reichenbach's cosmological argument?\n",
      "================================\u001b[1m Human Message \u001b[0m=================================\n",
      "Name: Lance\n",
      "\n",
      "Yes, I know the gist of it. But what specifics should I learn about?\n",
      "==================================\u001b[1m Ai Message \u001b[0m==================================\n",
      "\n",
      "Reichenbach's cosmological argument is a version of the kalam cosmological argument, which attempts to prove the existence of God based on the concept of causality and the origin of the universe. To delve deeper, you may want to explore the following specifics:\n",
      "\n",
      "1. **The concept of a \"beginning\"**: Reichenbach argues that the universe had a beginning, and this beginning requires a cause. You can examine the philosophical and scientific implications of this concept, including the Big Bang theory and the notion of time itself.\n",
      "2. **The cosmological argument's premises**: Reichenbach's argument is based on three main premises:\n",
      "\t* Whatever begins to exist has a cause.\n",
      "\t* The universe began to exist.\n",
      "\t* Therefore, the universe has a cause.\n",
      "\t* You can analyze the reasoning behind these premises, potential counterarguments, and the implications of each premise.\n",
      "3. **The nature of the cause**: Reichenbach argues that the cause of the universe must be a personal, uncaused, and timeless being, which he identifies as God. You can investigate the characteristics attributed to this cause, such as its necessity, simplicity, and intentionality.\n",
      "4. **Objections and counterarguments**: Familiarize yourself with common objections to Reichenbach's argument, such as:\n",
      "\t* The concept of causality may not apply to the universe as a whole.\n",
      "\t* The universe could be eternal or cyclical.\n",
      "\t* The cause of the universe may not be a personal being.\n",
      "\t* You can evaluate the strength of these objections and Reichenbach's responses to them.\n",
      "5. **Relationship to other philosophical and scientific concepts**: Reichenbach's argument intersects with various fields, including:\n",
      "\t* Philosophy of time and causality\n",
      "\t* Cosmology and the origins of the universe\n",
      "\t* Theology and the nature of God\n",
      "\t* You can explore how Reichenbach's argument relates to these areas and how they inform or challenge his conclusions.\n",
      "6. **Comparison to other cosmological arguments**: Reichenbach's argument is part of a broader tradition of cosmological arguments. You can compare and contrast his argument with other versions, such as those proposed by Thomas Aquinas, William Lane Craig, or Leibniz.\n",
      "\n",
      "By examining these specifics, you'll gain a deeper understanding of Reichenbach's cosmological argument and its place within the broader philosophical and scientific landscape.\n"
     ]
    }
   ],
   "source": [
    "output = graph.invoke({'messages': messages})\n",
    "for m in output['messages']:\n",
    "    m.pretty_print()"
   ]
  },
  {
   "cell_type": "markdown",
   "id": "34c33e63-1ef4-412d-bb10-6a1b9e5b35a7",
   "metadata": {},
   "source": [
    "## Reducer\n",
    "\n",
    "A practical challenge when working with messages is managing long-running conversations. \n",
    "\n",
    "Long-running conversations result in high token usage and latency if we are not careful, because we pass a growing list of messages to the model.\n",
    "\n",
    "We have a few ways to address this.\n",
    "\n",
    "First, recall the trick we saw using `RemoveMessage` and the `add_messages` reducer."
   ]
  },
  {
   "cell_type": "code",
   "execution_count": 14,
   "id": "222c6bc5-bb0e-4a43-80f5-c8ec38d99f3a",
   "metadata": {},
   "outputs": [
    {
     "data": {
      "image/png": "[encoded data removed]",
      "text/plain": [
       "<IPython.core.display.Image object>"
      ]
     },
     "metadata": {},
     "output_type": "display_data"
    }
   ],
   "source": [
    "from langchain_core.messages import RemoveMessage\n",
    "\n",
    "# Nodes\n",
    "def filter_messages(state: MessagesState):\n",
    "    # Delete all but the 2 most recent messages\n",
    "    delete_messages = [RemoveMessage(id=m.id) for m in state[\"messages\"][:-2]]\n",
    "    return {\"messages\": delete_messages}\n",
    "\n",
    "def chat_model_node(state: MessagesState):    \n",
    "    return {\"messages\": [llm.invoke(state[\"messages\"])]}\n",
    "\n",
    "# Build graph\n",
    "builder = StateGraph(MessagesState)\n",
    "builder.add_node(\"filter\", filter_messages)\n",
    "builder.add_node(\"chat_model\", chat_model_node)\n",
    "builder.add_edge(START, \"filter\")\n",
    "builder.add_edge(\"filter\", \"chat_model\")\n",
    "builder.add_edge(\"chat_model\", END)\n",
    "graph = builder.compile()\n",
    "\n",
    "# View\n",
    "display(Image(graph.get_graph().draw_mermaid_png()))"
   ]
  },
  {
   "cell_type": "code",
   "execution_count": 15,
   "id": "95a7c2cc-54ce-43e7-9a90-abf37827d709",
   "metadata": {},
   "outputs": [
    {
     "name": "stdout",
     "output_type": "stream",
     "text": [
      "==================================\u001b[1m Ai Message \u001b[0m==================================\n",
      "Name: Bot\n",
      "\n",
      "So you said you were researching logical fallacies?\n",
      "================================\u001b[1m Human Message \u001b[0m=================================\n",
      "Name: Lance\n",
      "\n",
      "Yes, I know about whataboutism. But what others should I learn about?\n",
      "==================================\u001b[1m Ai Message \u001b[0m==================================\n",
      "\n",
      "Whataboutism is a great one to be aware of. Here are some other common logical fallacies you might find useful to learn about:\n",
      "\n",
      "1. **Ad Hominem**: Attacking the person making an argument, rather than addressing the argument itself.\n",
      "2. **Strawman**: Misrepresenting or exaggerating someone's argument to make it easier to attack.\n",
      "3. **False Dichotomy**: Presenting only two options as if they are the only possibilities, when in fact there are other alternatives.\n",
      "4. **Slippery Slope**: Arguing that a particular action will inevitably lead to a series of negative consequences, without providing evidence for these consequences.\n",
      "5. **Appeal to Authority**: Using the opinion or position of an authority figure to support an argument, rather than providing evidence or logical reasoning.\n",
      "6. **Bandwagon Fallacy**: Arguing that something is true or good because many people believe it or are doing it.\n",
      "7. **False Cause**: Assuming that because two events are related in time, one must be the cause of the other.\n",
      "8. **Cherry Picking**: Selectively presenting only the evidence that supports your argument, while ignoring or downplaying evidence that contradicts it.\n",
      "9. **Red Herring**: Introducing a distracting or irrelevant point to divert attention from the original argument.\n",
      "10. **Appeal to Emotion**: Using emotional appeals rather than logical reasoning to persuade someone.\n",
      "\n",
      "These are just a few examples, but there are many more logical fallacies to explore. Learning about these fallacies can help you to:\n",
      "\n",
      "* Improve your critical thinking skills\n",
      "* Evaluate arguments more effectively\n",
      "* Avoid using fallacious reasoning in your own arguments\n",
      "* Identify and challenge flawed reasoning in others\n",
      "\n",
      "Do any of these stand out to you, or would you like to learn more about a specific area?\n"
     ]
    }
   ],
   "source": [
    "# Message list with a preamble\n",
    "messages = [AIMessage(\"Hi.\", name=\"Bot\", id=\"1\")]\n",
    "messages.append(HumanMessage(\"Teach me philosophy.\", name=\"Lance\", id=\"2\"))\n",
    "messages.append(AIMessage(\"So you said you were researching logical fallacies?\", name=\"Bot\", id=\"3\"))\n",
    "messages.append(HumanMessage(\"Yes, I know about whataboutism. But what others should I learn about?\", name=\"Lance\", id=\"4\"))\n",
    "\n",
    "# Invoke\n",
    "output = graph.invoke({'messages': messages})\n",
    "for m in output['messages']:\n",
    "    m.pretty_print()"
   ]
  },
  {
   "cell_type": "markdown",
   "id": "f506457d-014b-4fee-a684-e5edfb4b8f0d",
   "metadata": {},
   "source": [
    "## Filtering messages\n",
    "\n",
    "If you don't need or want to modify the graph state, you can just filter the messages you pass to the chat model.\n",
    "\n",
    "For example, just pass in a filtered list: `llm.invoke(messages[-1:])` to the model."
   ]
  },
  {
   "cell_type": "code",
   "execution_count": 16,
   "id": "22d0b904-7cd6-486b-8948-105bee3d4683",
   "metadata": {},
   "outputs": [
    {
     "data": {
      "image/png": "[encoded data removed]",
      "text/plain": [
       "<IPython.core.display.Image object>"
      ]
     },
     "metadata": {},
     "output_type": "display_data"
    }
   ],
   "source": [
    "# Node\n",
    "def chat_model_node(state: MessagesState):\n",
    "    return {\"messages\": [llm.invoke(state[\"messages\"][-1:])]}\n",
    "\n",
    "# Build graph\n",
    "builder = StateGraph(MessagesState)\n",
    "builder.add_node(\"chat_model\", chat_model_node)\n",
    "builder.add_edge(START, \"chat_model\")\n",
    "builder.add_edge(\"chat_model\", END)\n",
    "graph = builder.compile()\n",
    "\n",
    "# View\n",
    "display(Image(graph.get_graph().draw_mermaid_png()))"
   ]
  },
  {
   "cell_type": "markdown",
   "id": "6f58c6fc-532f-418d-b70a-cfcb3307daf5",
   "metadata": {},
   "source": [
    "Let's take our existing list of messages, append the above LLM response, and append a follow-up question."
   ]
  },
  {
   "cell_type": "code",
   "execution_count": 17,
   "id": "16956015-1dbe-4108-89b5-4209b68b51ca",
   "metadata": {},
   "outputs": [],
   "source": [
    "messages.append(output['messages'][-1])\n",
    "messages.append(HumanMessage(f\"Tell me more about fallacies!\", name=\"Lance\"))"
   ]
  },
  {
   "cell_type": "code",
   "execution_count": 18,
   "id": "85563415-c085-46a8-a4ac-155df798c54e",
   "metadata": {},
   "outputs": [
    {
     "name": "stdout",
     "output_type": "stream",
     "text": [
      "==================================\u001b[1m Ai Message \u001b[0m==================================\n",
      "Name: Bot\n",
      "\n",
      "Hi.\n",
      "================================\u001b[1m Human Message \u001b[0m=================================\n",
      "Name: Lance\n",
      "\n",
      "Teach me philosophy.\n",
      "==================================\u001b[1m Ai Message \u001b[0m==================================\n",
      "Name: Bot\n",
      "\n",
      "So you said you were researching logical fallacies?\n",
      "================================\u001b[1m Human Message \u001b[0m=================================\n",
      "Name: Lance\n",
      "\n",
      "Yes, I know about whataboutism. But what others should I learn about?\n",
      "==================================\u001b[1m Ai Message \u001b[0m==================================\n",
      "\n",
      "Whataboutism is a great one to be aware of. Here are some other common logical fallacies you might find useful to learn about:\n",
      "\n",
      "1. **Ad Hominem**: Attacking the person making an argument, rather than addressing the argument itself.\n",
      "2. **Strawman**: Misrepresenting or exaggerating someone's argument to make it easier to attack.\n",
      "3. **False Dichotomy**: Presenting only two options as if they are the only possibilities, when in fact there are other alternatives.\n",
      "4. **Slippery Slope**: Arguing that a particular action will inevitably lead to a series of negative consequences, without providing evidence for these consequences.\n",
      "5. **Appeal to Authority**: Using the opinion or position of an authority figure to support an argument, rather than providing evidence or logical reasoning.\n",
      "6. **Bandwagon Fallacy**: Arguing that something is true or good because many people believe it or are doing it.\n",
      "7. **False Cause**: Assuming that because two events are related in time, one must be the cause of the other.\n",
      "8. **Cherry Picking**: Selectively presenting only the evidence that supports your argument, while ignoring or downplaying evidence that contradicts it.\n",
      "9. **Red Herring**: Introducing a distracting or irrelevant point to divert attention from the original argument.\n",
      "10. **Appeal to Emotion**: Using emotional appeals rather than logical reasoning to persuade someone.\n",
      "\n",
      "These are just a few examples, but there are many more logical fallacies to explore. Learning about these fallacies can help you to:\n",
      "\n",
      "* Improve your critical thinking skills\n",
      "* Evaluate arguments more effectively\n",
      "* Avoid using fallacious reasoning in your own arguments\n",
      "* Identify and challenge flawed reasoning in others\n",
      "\n",
      "Do any of these stand out to you, or would you like to learn more about a specific area?\n",
      "================================\u001b[1m Human Message \u001b[0m=================================\n",
      "Name: Lance\n",
      "\n",
      "Tell me more about fallacies!\n"
     ]
    }
   ],
   "source": [
    "for m in messages:\n",
    "    m.pretty_print()"
   ]
  },
  {
   "cell_type": "code",
   "execution_count": 19,
   "id": "23349705-a059-47b5-9760-d8f64e687393",
   "metadata": {},
   "outputs": [
    {
     "name": "stdout",
     "output_type": "stream",
     "text": [
      "==================================\u001b[1m Ai Message \u001b[0m==================================\n",
      "Name: Bot\n",
      "\n",
      "Hi.\n",
      "================================\u001b[1m Human Message \u001b[0m=================================\n",
      "Name: Lance\n",
      "\n",
      "Teach me philosophy.\n",
      "==================================\u001b[1m Ai Message \u001b[0m==================================\n",
      "Name: Bot\n",
      "\n",
      "So you said you were researching logical fallacies?\n",
      "================================\u001b[1m Human Message \u001b[0m=================================\n",
      "Name: Lance\n",
      "\n",
      "Yes, I know about whataboutism. But what others should I learn about?\n",
      "==================================\u001b[1m Ai Message \u001b[0m==================================\n",
      "\n",
      "Whataboutism is a great one to be aware of. Here are some other common logical fallacies you might find useful to learn about:\n",
      "\n",
      "1. **Ad Hominem**: Attacking the person making an argument, rather than addressing the argument itself.\n",
      "2. **Strawman**: Misrepresenting or exaggerating someone's argument to make it easier to attack.\n",
      "3. **False Dichotomy**: Presenting only two options as if they are the only possibilities, when in fact there are other alternatives.\n",
      "4. **Slippery Slope**: Arguing that a particular action will inevitably lead to a series of negative consequences, without providing evidence for these consequences.\n",
      "5. **Appeal to Authority**: Using the opinion or position of an authority figure to support an argument, rather than providing evidence or logical reasoning.\n",
      "6. **Bandwagon Fallacy**: Arguing that something is true or good because many people believe it or are doing it.\n",
      "7. **False Cause**: Assuming that because two events are related in time, one must be the cause of the other.\n",
      "8. **Cherry Picking**: Selectively presenting only the evidence that supports your argument, while ignoring or downplaying evidence that contradicts it.\n",
      "9. **Red Herring**: Introducing a distracting or irrelevant point to divert attention from the original argument.\n",
      "10. **Appeal to Emotion**: Using emotional appeals rather than logical reasoning to persuade someone.\n",
      "\n",
      "These are just a few examples, but there are many more logical fallacies to explore. Learning about these fallacies can help you to:\n",
      "\n",
      "* Improve your critical thinking skills\n",
      "* Evaluate arguments more effectively\n",
      "* Avoid using fallacious reasoning in your own arguments\n",
      "* Identify and challenge flawed reasoning in others\n",
      "\n",
      "Do any of these stand out to you, or would you like to learn more about a specific area?\n",
      "================================\u001b[1m Human Message \u001b[0m=================================\n",
      "Name: Lance\n",
      "\n",
      "Tell me more about fallacies!\n",
      "==================================\u001b[1m Ai Message \u001b[0m==================================\n",
      "\n",
      "Fallacies are errors in reasoning that can lead to incorrect or misleading conclusions. They can be found in arguments, debates, and everyday conversations. Understanding fallacies can help you to identify flawed reasoning, evaluate arguments more effectively, and make more informed decisions. Here are some common types of fallacies:\n",
      "\n",
      "**1. Ad Hominem Fallacy**: Attacking the person making an argument rather than addressing the argument itself. Example: \"You're just saying that because you're a Democrat/Republican.\"\n",
      "\n",
      "**2. Straw Man Fallacy**: Misrepresenting or exaggerating someone's argument to make it easier to attack. Example: \"So, you think we should just let everyone into the country without any restrictions?\"\n",
      "\n",
      "**3. False Dilemma Fallacy**: Presenting only two options when there are actually more. Example: \"You're either with us or against us.\"\n",
      "\n",
      "**4. Appeal to Authority Fallacy**: Using the opinion of an authority figure to support an argument, even if the authority is not relevant or credible. Example: \"Dr. Smith says that climate change is a hoax, so it must be true.\"\n",
      "\n",
      "**5. Bandwagon Fallacy**: Arguing that something is true or good because many people believe it or are doing it. Example: \"Everyone's investing in cryptocurrency, so it must be a good idea.\"\n",
      "\n",
      "**6. Slippery Slope Fallacy**: Arguing that a particular action will inevitably lead to a series of negative consequences without providing evidence. Example: \"If we allow gay marriage, next we'll be allowing people to marry animals.\"\n",
      "\n",
      "**7. Appeal to Emotion Fallacy**: Using emotions rather than logic to persuade someone. Example: \"Think of the children! We have to support this policy to protect them.\"\n",
      "\n",
      "**8. Red Herring Fallacy**: Introducing an unrelated topic to distract from the original argument. Example: \"But what about the economy? We can't afford to implement this policy.\"\n",
      "\n",
      "**9. Begging the Question Fallacy**: Assuming the truth of the conclusion one is trying to prove. Example: \"God exists because the Bible says so, and we know the Bible is true because it's the word of God.\"\n",
      "\n",
      "**10. Post Hoc Ergo Propter Hoc Fallacy**: Assuming that because one event follows another, the first event must have caused the second. Example: \"I wore my lucky socks and then I won the game, so my socks must have brought me good luck.\"\n",
      "\n",
      "These are just a few examples of the many fallacies that exist. Being able to recognize and identify fallacies can help you to evaluate arguments more critically and make more informed decisions.\n",
      "\n",
      "Do you have any specific questions about fallacies or would you like me to explain any of these in more detail?\n"
     ]
    }
   ],
   "source": [
    "# Invoke, using message filtering\n",
    "output = graph.invoke({'messages': messages})\n",
    "for m in output['messages']:\n",
    "    m.pretty_print()"
   ]
  },
  {
   "cell_type": "markdown",
   "id": "42e1d8d2-e297-4d78-b54c-d12b3c866745",
   "metadata": {},
   "source": [
    "The state has all of the mesages.\n",
    "\n",
    "But, let's look at the LangSmith trace to see that the model invocation only uses the last message:\n",
    "\n",
    "https://smith.langchain.com/public/75aca3ce-ef19-4b92-94be-0178c7a660d9/r"
   ]
  },
  {
   "cell_type": "markdown",
   "id": "fc40d930-3c1f-47fe-8d2a-ce174873353c",
   "metadata": {},
   "source": [
    "## Trim messages\n",
    "\n",
    "Another approach is to [trim messages](https://python.langchain.com/v0.2/docs/how_to/trim_messages/#getting-the-last-max_tokens-tokens), based upon a set number of tokens. \n",
    "\n",
    "This restricts the message history to a specified number of tokens.\n",
    "\n",
    "While filtering only returns a post-hoc subset of the messages between agents, trimming restricts the number of tokens that a chat model can use to respond.\n",
    "\n",
    "See the `trim_messages` below."
   ]
  },
  {
   "cell_type": "code",
   "execution_count": 20,
   "id": "2ff99b81-cf03-4cc2-b44f-44829a73e1fd",
   "metadata": {},
   "outputs": [
    {
     "data": {
      "image/png": "[encoded data removed]",
      "text/plain": [
       "<IPython.core.display.Image object>"
      ]
     },
     "metadata": {},
     "output_type": "display_data"
    }
   ],
   "source": [
    "from langchain_core.messages import trim_messages\n",
    "\n",
    "# Node\n",
    "def chat_model_node(state: MessagesState):\n",
    "    messages = trim_messages(\n",
    "            state[\"messages\"],\n",
    "            max_tokens=100,\n",
    "            strategy=\"last\",\n",
    "            token_counter=ChatGroq(model=\"llama-3.3-70b-versatile\"),\n",
    "            allow_partial=False,\n",
    "        )\n",
    "    return {\"messages\": [llm.invoke(messages)]}\n",
    "\n",
    "# Build graph\n",
    "builder = StateGraph(MessagesState)\n",
    "builder.add_node(\"chat_model\", chat_model_node)\n",
    "builder.add_edge(START, \"chat_model\")\n",
    "builder.add_edge(\"chat_model\", END)\n",
    "graph = builder.compile()\n",
    "\n",
    "# View\n",
    "display(Image(graph.get_graph().draw_mermaid_png()))"
   ]
  },
  {
   "cell_type": "code",
   "execution_count": 21,
   "id": "24df63ac-da29-4874-b3df-7e390e97cc8a",
   "metadata": {},
   "outputs": [],
   "source": [
    "messages.append(output['messages'][-1])\n",
    "messages.append(HumanMessage(f\"Tell me about Kantian philosophy\", name=\"Lance\"))"
   ]
  },
  {
   "cell_type": "code",
   "execution_count": 22,
   "id": "6d9d8971-c75c-43ca-a209-eb1d07b2ead0",
   "metadata": {},
   "outputs": [
    {
     "data": {
      "application/vnd.jupyter.widget-view+json": {
       "model_id": "204d949fc07b4216bd6c3fc97b23b7f9",
       "version_major": 2,
       "version_minor": 0
      },
      "text/plain": [
       "tokenizer_config.json:   0%|          | 0.00/26.0 [00:00<?, ?B/s]"
      ]
     },
     "metadata": {},
     "output_type": "display_data"
    },
    {
     "name": "stderr",
     "output_type": "stream",
     "text": [
      "C:\\Users\\DELL\\Desktop\\Jupyter\\mat\\Lib\\site-packages\\huggingface_hub\\file_download.py:143: UserWarning: `huggingface_hub` cache-system uses symlinks by default to efficiently store duplicated files but your machine does not support them in C:\\Users\\DELL\\.cache\\huggingface\\hub\\models--gpt2. Caching files will still work but in a degraded version that might require more space on your disk. This warning can be disabled by setting the `HF_HUB_DISABLE_SYMLINKS_WARNING` environment variable. For more details, see https://huggingface.co/docs/huggingface_hub/how-to-cache#limitations.\n",
      "To support symlinks on Windows, you either need to activate Developer Mode or to run Python as an administrator. In order to activate developer mode, see this article: https://docs.microsoft.com/en-us/windows/apps/get-started/enable-your-device-for-development\n",
      "  warnings.warn(message)\n"
     ]
    },
    {
     "data": {
      "application/vnd.jupyter.widget-view+json": {
       "model_id": "f73a25238d1c45debcfb6ba4226de5a7",
       "version_major": 2,
       "version_minor": 0
      },
      "text/plain": [
       "vocab.json:   0%|          | 0.00/1.04M [00:00<?, ?B/s]"
      ]
     },
     "metadata": {},
     "output_type": "display_data"
    },
    {
     "data": {
      "application/vnd.jupyter.widget-view+json": {
       "model_id": "dfd7ad2381d241338f3010d4f04b0774",
       "version_major": 2,
       "version_minor": 0
      },
      "text/plain": [
       "merges.txt:   0%|          | 0.00/456k [00:00<?, ?B/s]"
      ]
     },
     "metadata": {},
     "output_type": "display_data"
    },
    {
     "data": {
      "application/vnd.jupyter.widget-view+json": {
       "model_id": "40451120745d4b078c5348fa90e0d941",
       "version_major": 2,
       "version_minor": 0
      },
      "text/plain": [
       "tokenizer.json:   0%|          | 0.00/1.36M [00:00<?, ?B/s]"
      ]
     },
     "metadata": {},
     "output_type": "display_data"
    },
    {
     "data": {
      "application/vnd.jupyter.widget-view+json": {
       "model_id": "4fae02249c734f67a04cb6da5bd4bf09",
       "version_major": 2,
       "version_minor": 0
      },
      "text/plain": [
       "config.json:   0%|          | 0.00/665 [00:00<?, ?B/s]"
      ]
     },
     "metadata": {},
     "output_type": "display_data"
    },
    {
     "data": {
      "text/plain": [
       "[HumanMessage(content='Tell me about Kantian philosophy', additional_kwargs={}, response_metadata={}, name='Lance')]"
      ]
     },
     "execution_count": 22,
     "metadata": {},
     "output_type": "execute_result"
    }
   ],
   "source": [
    "# Example of trimming messages\n",
    "trim_messages(\n",
    "            messages,\n",
    "            max_tokens=100,\n",
    "            strategy=\"last\",\n",
    "            token_counter=ChatGroq(model=\"llama-3.3-70b-versatile\"),\n",
    "            allow_partial=False\n",
    "        )"
   ]
  },
  {
   "cell_type": "code",
   "execution_count": 23,
   "id": "ed70a269-a869-4fa0-a1df-29736a432c51",
   "metadata": {},
   "outputs": [],
   "source": [
    "# Invoke, using message trimming in the chat_model_node \n",
    "messages_out_trim = graph.invoke({'messages': messages})"
   ]
  },
  {
   "cell_type": "markdown",
   "id": "38b3db67-380e-46b5-9a6a-20100ba52008",
   "metadata": {},
   "source": [
    "Let's look at the LangSmith trace to see the model invocation:\n",
    "\n",
    "https://smith.langchain.com/public/b153f7e9-f1a5-4d60-8074-f0d7ab5b42ef/r"
   ]
  }
 ],
 "metadata": {
  "kernelspec": {
   "display_name": "Python 3 (ipykernel)",
   "language": "python",
   "name": "python3"
  },
  "language_info": {
   "codemirror_mode": {
    "name": "ipython",
    "version": 3
   },
   "file_extension": ".py",
   "mimetype": "text/x-python",
   "name": "python",
   "nbconvert_exporter": "python",
   "pygments_lexer": "ipython3",
   "version": "3.13.0"
  }
 },
 "nbformat": 4,
 "nbformat_minor": 5
}

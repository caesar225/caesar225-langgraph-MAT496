{
 "cells": [
  {
   "cell_type": "markdown",
   "id": "cf7ccb32",
   "metadata": {},
   "source": [
    "[![Open in Colab](https://colab.research.google.com/assets/colab-badge.svg)](https://colab.research.google.com/github/langchain-ai/langchain-academy/blob/main/module-2/chatbot-external-memory.ipynb) [![Open in LangChain Academy](https://cdn.prod.website-files.com/65b8cd72835ceeacd4449a53/66e9eba12c7b7688aa3dbb5e_LCA-badge-green.svg)](https://academy.langchain.com/courses/take/intro-to-langgraph/lessons/58239440-lesson-6-chatbot-w-summarizing-messages-and-external-memory)"
   ]
  },
  {
   "cell_type": "markdown",
   "id": "af6c7afe-1037-41ab-98e4-494692e47402",
   "metadata": {},
   "source": [
    "# Chatbot with message summarization & external DB memory\n",
    "\n",
    "## Review\n",
    "\n",
    "We've covered how to customize graph state schema and reducer. \n",
    " \n",
    "We've also shown a number of tricks for trimming or filtering messages in graph state. \n",
    "\n",
    "We've used these concepts in a Chatbot with memory that produces a running summary of the conversation.\n",
    "\n",
    "## Goals\n",
    "\n",
    "But, what if we want our Chatbot to have memory that persists indefinitely?\n",
    "\n",
    "Now, we'll introduce some more advanced checkpointers that support external databases. \n",
    "\n",
    "Here, we'll show how to use [Sqlite as a checkpointer](https://langchain-ai.github.io/langgraph/concepts/low_level/#checkpointer), but other checkpointers, such as [Postgres](https://langchain-ai.github.io/langgraph/how-tos/persistence_postgres/) are available!"
   ]
  },
  {
   "cell_type": "code",
   "execution_count": 12,
   "id": "85ed78d9-6ca2-45ac-96a9-52e341ec519d",
   "metadata": {},
   "outputs": [
    {
     "name": "stderr",
     "output_type": "stream",
     "text": [
      "ERROR: pip's dependency resolver does not currently take into account all the packages that are installed. This behaviour is the source of the following dependency conflicts.\n",
      "langchain 0.3.27 requires langchain-core<1.0.0,>=0.3.72, but you have langchain-core 1.0.1 which is incompatible.\n",
      "langchain-groq 0.3.7 requires langchain-core<1.0.0,>=0.3.72, but you have langchain-core 1.0.1 which is incompatible.\n",
      "langchain-huggingface 0.3.1 requires langchain-core<1.0.0,>=0.3.70, but you have langchain-core 1.0.1 which is incompatible.\n",
      "langchain-ollama 0.3.8 requires langchain-core<1.0.0,>=0.3.76, but you have langchain-core 1.0.1 which is incompatible.\n",
      "langchain-tavily 0.2.11 requires langchain-core<0.4.0,>=0.3.15, but you have langchain-core 1.0.1 which is incompatible.\n",
      "langchain-unstructured 0.1.5 requires langchain-core<0.4,>=0.3, but you have langchain-core 1.0.1 which is incompatible.\n",
      "\n",
      "[notice] A new release of pip is available: 24.2 -> 25.3\n",
      "[notice] To update, run: python.exe -m pip install --upgrade pip\n"
     ]
    }
   ],
   "source": [
    "%%capture --no-stderr\n",
    "%pip install --quiet -U langgraph-checkpoint-sqlite langchain_core langgraph langchain_openai"
   ]
  },
  {
   "cell_type": "code",
   "execution_count": 1,
   "id": "2e10c4d4",
   "metadata": {},
   "outputs": [
    {
     "name": "stdin",
     "output_type": "stream",
     "text": [
      "GROQ_API_KEY:  ········\n"
     ]
    }
   ],
   "source": [
    "import os, getpass\n",
    "\n",
    "def _set_env(var: str):\n",
    "    if not os.environ.get(var):\n",
    "        os.environ[var] = getpass.getpass(f\"{var}: \")\n",
    "\n",
    "_set_env(\"GROQ_API_KEY\")"
   ]
  },
  {
   "cell_type": "markdown",
   "id": "b40d25c0-e9b5-4854-bf07-3cc3ff07122e",
   "metadata": {},
   "source": [
    "## Sqlite\n",
    "\n",
    "A good starting point here is the [SqliteSaver checkpointer](https://langchain-ai.github.io/langgraph/concepts/low_level/#checkpointer).\n",
    "\n",
    "Sqlite is a [small, fast, highly popular](https://x.com/karpathy/status/1819490455664685297) SQL database. \n",
    " \n",
    "If we supply `\":memory:\"` it creates an in-memory Sqlite database."
   ]
  },
  {
   "cell_type": "code",
   "execution_count": 2,
   "id": "fae15402-17ae-4e89-8ecf-4c89e08b22fe",
   "metadata": {},
   "outputs": [],
   "source": [
    "import sqlite3\n",
    "# In memory\n",
    "conn = sqlite3.connect(\":memory:\", check_same_thread = False)"
   ]
  },
  {
   "cell_type": "markdown",
   "id": "c2bf53ec-6d4a-42ce-8183-344795eed403",
   "metadata": {},
   "source": [
    "But, if we supply a db path, then it will create a database for us!"
   ]
  },
  {
   "cell_type": "code",
   "execution_count": 9,
   "id": "58339167-920c-4994-a0a7-0a9c5d4f7cf7",
   "metadata": {},
   "outputs": [
    {
     "name": "stdout",
     "output_type": "stream",
     "text": [
      "Database already exists: state_db/example.db\n",
      "Connected to DB ✅\n"
     ]
    }
   ],
   "source": [
    "import os\n",
    "import urllib.request\n",
    "import sqlite3\n",
    "\n",
    "# Make sure the folder exists\n",
    "os.makedirs(\"state_db\", exist_ok=True)\n",
    "\n",
    "# Download file only if it doesn't exist\n",
    "db_path = \"state_db/example.db\"\n",
    "if not os.path.exists(db_path):\n",
    "    url = \"https://github.com/langchain-ai/langchain-academy/raw/main/module-2/state_db/example.db\"\n",
    "    print(\"Downloading example.db...\")\n",
    "    urllib.request.urlretrieve(url, db_path)\n",
    "else:\n",
    "    print(\"Database already exists:\", db_path)\n",
    "\n",
    "# Connect to the SQLite DB\n",
    "conn = sqlite3.connect(db_path, check_same_thread=False)\n",
    "print(\"Connected to DB ✅\")\n"
   ]
  },
  {
   "cell_type": "code",
   "execution_count": 16,
   "id": "3c7736b6-a750-48f8-a838-8e7616b12250",
   "metadata": {},
   "outputs": [],
   "source": [
    "from langgraph.checkpoint.sqlite import SqliteSaver\n",
    "memory = SqliteSaver(conn)"
   ]
  },
  {
   "cell_type": "markdown",
   "id": "9d8cb629-213f-4b87-965e-19b812c42da1",
   "metadata": {},
   "source": [
    "Let's re-define our chatbot."
   ]
  },
  {
   "cell_type": "code",
   "execution_count": 17,
   "id": "dc414e29-2078-41a0-887c-af1a6a3d72c0",
   "metadata": {},
   "outputs": [],
   "source": [
    "from typing_extensions import Literal\n",
    "from langchain_groq import ChatGroq\n",
    "from langchain_core.messages import SystemMessage, HumanMessage, RemoveMessage\n",
    "from langgraph.graph import END\n",
    "from langgraph.graph import MessagesState\n",
    "\n",
    "model = ChatGroq(\n",
    "    model_name=\"llama-3.3-70b-versatile\",  # choose a Groq-supported model\n",
    "    temperature=0\n",
    ")\n",
    "\n",
    "class State(MessagesState):\n",
    "    summary: str\n",
    "\n",
    "def call_model(state: State):\n",
    "    # Get summary if it exists\n",
    "    summary = state.get(\"summary\", \"\")\n",
    "\n",
    "    # If there is a summary, add it as context\n",
    "    if summary:\n",
    "        system_message = f\"Summary of conversation earlier: {summary}\"\n",
    "        messages = [SystemMessage(content=system_message)] + state[\"messages\"]\n",
    "    else:\n",
    "        messages = state[\"messages\"]\n",
    "\n",
    "    response = model.invoke(messages)\n",
    "    return {\"messages\": response}\n",
    "\n",
    "\n",
    "# --- Summarize the conversation ---\n",
    "def summarize_conversation(state: State):\n",
    "    summary = state.get(\"summary\", \"\")\n",
    "\n",
    "    if summary:\n",
    "        summary_message = (\n",
    "            f\"This is a summary of the conversation to date: {summary}\\n\\n\"\n",
    "            \"Extend the summary by taking into account the new messages above:\"\n",
    "        )\n",
    "    else:\n",
    "        summary_message = \"Create a summary of the conversation above:\"\n",
    "\n",
    "    messages = state[\"messages\"] + [HumanMessage(content=summary_message)]\n",
    "    response = model.invoke(messages)\n",
    "\n",
    "    # Delete all but the 2 most recent messages\n",
    "    delete_messages = [RemoveMessage(id=m.id) for m in state[\"messages\"][:-2]]\n",
    "    return {\"summary\": response.content, \"messages\": delete_messages}\n",
    "\n",
    "\n",
    "def should_continue(state: State) -> Literal[\"summarize_conversation\", END]:\n",
    "    \"\"\"Return the next node to execute.\"\"\"\n",
    "    messages = state[\"messages\"]\n",
    "\n",
    "    if len(messages) > 6:\n",
    "        return \"summarize_conversation\"\n",
    "    return END\n"
   ]
  },
  {
   "cell_type": "markdown",
   "id": "41c13c0b-a383-4f73-9cc1-63f0eed8f190",
   "metadata": {},
   "source": [
    "Now, we just re-compile with our sqlite checkpointer."
   ]
  },
  {
   "cell_type": "code",
   "execution_count": 18,
   "id": "e867fd95-91eb-4ce1-82fc-bb72d611a96d",
   "metadata": {},
   "outputs": [
    {
     "data": {
      "image/png": "[encoded data removed]",
      "text/plain": [
       "<IPython.core.display.Image object>"
      ]
     },
     "metadata": {},
     "output_type": "display_data"
    }
   ],
   "source": [
    "from IPython.display import Image, display\n",
    "from langgraph.graph import StateGraph, START\n",
    "\n",
    "# Define a new graph\n",
    "workflow = StateGraph(State)\n",
    "workflow.add_node(\"conversation\", call_model)\n",
    "workflow.add_node(summarize_conversation)\n",
    "\n",
    "# Set the entrypoint as conversation\n",
    "workflow.add_edge(START, \"conversation\")\n",
    "workflow.add_conditional_edges(\"conversation\", should_continue)\n",
    "workflow.add_edge(\"summarize_conversation\", END)\n",
    "\n",
    "# Compile\n",
    "graph = workflow.compile(checkpointer=memory)\n",
    "display(Image(graph.get_graph().draw_mermaid_png()))"
   ]
  },
  {
   "cell_type": "markdown",
   "id": "8769db99-3938-45e6-a594-56beb18d6c45",
   "metadata": {},
   "source": [
    "Now, we can invoke the graph several times. "
   ]
  },
  {
   "cell_type": "code",
   "execution_count": 19,
   "id": "0f4094a0-d240-4be8-903a-7d9f605bdc5c",
   "metadata": {},
   "outputs": [
    {
     "name": "stdout",
     "output_type": "stream",
     "text": [
      "==================================\u001b[1m Ai Message \u001b[0m==================================\n",
      "\n",
      "Hello Lance! It's nice to meet you. Is there something I can help you with or would you like to chat?\n",
      "==================================\u001b[1m Ai Message \u001b[0m==================================\n",
      "\n",
      "Your name is Lance.\n",
      "==================================\u001b[1m Ai Message \u001b[0m==================================\n",
      "\n",
      "That's awesome, Lance! Horror games can be so much fun and thrilling. Which ones are your favorites? Are you into classic survival horror games like Resident Evil, or do you prefer more modern ones like Amnesia or Outlast?\n"
     ]
    }
   ],
   "source": [
    "# Create a thread\n",
    "config = {\"configurable\": {\"thread_id\": \"1\"}}\n",
    "\n",
    "# Start conversation\n",
    "input_message = HumanMessage(content=\"hi! I'm Lance\")\n",
    "output = graph.invoke({\"messages\": [input_message]}, config) \n",
    "for m in output['messages'][-1:]:\n",
    "    m.pretty_print()\n",
    "\n",
    "input_message = HumanMessage(content=\"what's my name?\")\n",
    "output = graph.invoke({\"messages\": [input_message]}, config) \n",
    "for m in output['messages'][-1:]:\n",
    "    m.pretty_print()\n",
    "\n",
    "input_message = HumanMessage(content=\"i like horror games!\")\n",
    "output = graph.invoke({\"messages\": [input_message]}, config) \n",
    "for m in output['messages'][-1:]:\n",
    "    m.pretty_print()"
   ]
  },
  {
   "cell_type": "markdown",
   "id": "c0f3e842-4497-45e2-a924-69672a9bcb33",
   "metadata": {},
   "source": [
    "Let's confirm that our state is saved locally."
   ]
  },
  {
   "cell_type": "code",
   "execution_count": 20,
   "id": "d2ab158a-5a82-417a-8841-730a4cc18ea7",
   "metadata": {},
   "outputs": [
    {
     "data": {
      "text/plain": [
       "StateSnapshot(values={'messages': [HumanMessage(content=\"hi! I'm Lance\", additional_kwargs={}, response_metadata={}, id='27cfe4f0-3420-47fe-8fa7-1619f9389fa6'), AIMessage(content=\"Hello Lance! It's nice to meet you. Is there something I can help you with or would you like to chat?\", additional_kwargs={}, response_metadata={'token_usage': {'completion_tokens': 26, 'prompt_tokens': 40, 'total_tokens': 66, 'completion_time': 0.042080395, 'prompt_time': 0.001791697, 'queue_time': 0.056283733, 'total_time': 0.043872092}, 'model_name': 'llama-3.3-70b-versatile', 'system_fingerprint': 'fp_6507bcfb6f', 'service_tier': 'on_demand', 'finish_reason': 'stop', 'logprobs': None}, id='run--1e8ee144-2342-4d30-b199-624c7a1a0b73-0', usage_metadata={'input_tokens': 40, 'output_tokens': 26, 'total_tokens': 66}), HumanMessage(content=\"what's my name?\", additional_kwargs={}, response_metadata={}, id='b12ce360-45d9-415d-9698-a1d21e1ebb93'), AIMessage(content='Your name is Lance.', additional_kwargs={}, response_metadata={'token_usage': {'completion_tokens': 6, 'prompt_tokens': 80, 'total_tokens': 86, 'completion_time': 0.022116327, 'prompt_time': 0.003885138, 'queue_time': 0.051668922, 'total_time': 0.026001465}, 'model_name': 'llama-3.3-70b-versatile', 'system_fingerprint': 'fp_6507bcfb6f', 'service_tier': 'on_demand', 'finish_reason': 'stop', 'logprobs': None}, id='run--599eaec0-e7b9-47ed-a189-0ebfcd8ca8d5-0', usage_metadata={'input_tokens': 80, 'output_tokens': 6, 'total_tokens': 86}), HumanMessage(content='i like horror games!', additional_kwargs={}, response_metadata={}, id='49a21479-58d9-48d7-b270-11da4baabba2'), AIMessage(content=\"That's awesome, Lance! Horror games can be so much fun and thrilling. Which ones are your favorites? Are you into classic survival horror games like Resident Evil, or do you prefer more modern ones like Amnesia or Outlast?\", additional_kwargs={}, response_metadata={'token_usage': {'completion_tokens': 48, 'prompt_tokens': 100, 'total_tokens': 148, 'completion_time': 0.114909302, 'prompt_time': 0.006538876, 'queue_time': 0.056542824, 'total_time': 0.121448178}, 'model_name': 'llama-3.3-70b-versatile', 'system_fingerprint': 'fp_6507bcfb6f', 'service_tier': 'on_demand', 'finish_reason': 'stop', 'logprobs': None}, id='run--861959d5-2d6f-45f9-980d-4d0844eec41b-0', usage_metadata={'input_tokens': 100, 'output_tokens': 48, 'total_tokens': 148})]}, next=(), config={'configurable': {'thread_id': '1', 'checkpoint_ns': '', 'checkpoint_id': '1f0b1a59-e813-6091-8007-2f20316feee5'}}, metadata={'source': 'loop', 'step': 7, 'parents': {}}, created_at='2025-10-25T13:22:13.547147+00:00', parent_config={'configurable': {'thread_id': '1', 'checkpoint_ns': '', 'checkpoint_id': '1f0b1a59-e479-6511-8006-c9b8c4337540'}}, tasks=(), interrupts=())"
      ]
     },
     "execution_count": 20,
     "metadata": {},
     "output_type": "execute_result"
    }
   ],
   "source": [
    "config = {\"configurable\": {\"thread_id\": \"1\"}}\n",
    "graph_state = graph.get_state(config)\n",
    "graph_state"
   ]
  },
  {
   "cell_type": "markdown",
   "id": "1e21152d-ed9c-408d-b7d5-f634c9ce81e2",
   "metadata": {},
   "source": [
    "### Persisting state\n",
    "\n",
    "Using database like Sqlite means state is persisted! \n",
    "\n",
    "For example, we can re-start the notebook kernel and see that we can still load from Sqlite DB on disk.\n"
   ]
  },
  {
   "cell_type": "code",
   "execution_count": 21,
   "id": "b9a44dc5-be04-45fa-a6fc-27b0f8ee4678",
   "metadata": {},
   "outputs": [
    {
     "data": {
      "text/plain": [
       "StateSnapshot(values={'messages': [HumanMessage(content=\"hi! I'm Lance\", additional_kwargs={}, response_metadata={}, id='27cfe4f0-3420-47fe-8fa7-1619f9389fa6'), AIMessage(content=\"Hello Lance! It's nice to meet you. Is there something I can help you with or would you like to chat?\", additional_kwargs={}, response_metadata={'token_usage': {'completion_tokens': 26, 'prompt_tokens': 40, 'total_tokens': 66, 'completion_time': 0.042080395, 'prompt_time': 0.001791697, 'queue_time': 0.056283733, 'total_time': 0.043872092}, 'model_name': 'llama-3.3-70b-versatile', 'system_fingerprint': 'fp_6507bcfb6f', 'service_tier': 'on_demand', 'finish_reason': 'stop', 'logprobs': None}, id='run--1e8ee144-2342-4d30-b199-624c7a1a0b73-0', usage_metadata={'input_tokens': 40, 'output_tokens': 26, 'total_tokens': 66}), HumanMessage(content=\"what's my name?\", additional_kwargs={}, response_metadata={}, id='b12ce360-45d9-415d-9698-a1d21e1ebb93'), AIMessage(content='Your name is Lance.', additional_kwargs={}, response_metadata={'token_usage': {'completion_tokens': 6, 'prompt_tokens': 80, 'total_tokens': 86, 'completion_time': 0.022116327, 'prompt_time': 0.003885138, 'queue_time': 0.051668922, 'total_time': 0.026001465}, 'model_name': 'llama-3.3-70b-versatile', 'system_fingerprint': 'fp_6507bcfb6f', 'service_tier': 'on_demand', 'finish_reason': 'stop', 'logprobs': None}, id='run--599eaec0-e7b9-47ed-a189-0ebfcd8ca8d5-0', usage_metadata={'input_tokens': 80, 'output_tokens': 6, 'total_tokens': 86}), HumanMessage(content='i like horror games!', additional_kwargs={}, response_metadata={}, id='49a21479-58d9-48d7-b270-11da4baabba2'), AIMessage(content=\"That's awesome, Lance! Horror games can be so much fun and thrilling. Which ones are your favorites? Are you into classic survival horror games like Resident Evil, or do you prefer more modern ones like Amnesia or Outlast?\", additional_kwargs={}, response_metadata={'token_usage': {'completion_tokens': 48, 'prompt_tokens': 100, 'total_tokens': 148, 'completion_time': 0.114909302, 'prompt_time': 0.006538876, 'queue_time': 0.056542824, 'total_time': 0.121448178}, 'model_name': 'llama-3.3-70b-versatile', 'system_fingerprint': 'fp_6507bcfb6f', 'service_tier': 'on_demand', 'finish_reason': 'stop', 'logprobs': None}, id='run--861959d5-2d6f-45f9-980d-4d0844eec41b-0', usage_metadata={'input_tokens': 100, 'output_tokens': 48, 'total_tokens': 148})]}, next=(), config={'configurable': {'thread_id': '1', 'checkpoint_ns': '', 'checkpoint_id': '1f0b1a59-e813-6091-8007-2f20316feee5'}}, metadata={'source': 'loop', 'step': 7, 'parents': {}}, created_at='2025-10-25T13:22:13.547147+00:00', parent_config={'configurable': {'thread_id': '1', 'checkpoint_ns': '', 'checkpoint_id': '1f0b1a59-e479-6511-8006-c9b8c4337540'}}, tasks=(), interrupts=())"
      ]
     },
     "execution_count": 21,
     "metadata": {},
     "output_type": "execute_result"
    }
   ],
   "source": [
    "# Create a thread\n",
    "config = {\"configurable\": {\"thread_id\": \"1\"}}\n",
    "graph_state = graph.get_state(config)\n",
    "graph_state"
   ]
  },
  {
   "cell_type": "markdown",
   "id": "8466e418-1a46-4cdb-a51a-6ae14281bb85",
   "metadata": {},
   "source": [
    "## LangGraph Studio\n",
    "\n",
    "**⚠️ DISCLAIMER**\n",
    "\n",
    "Since the filming of these videos, we've updated Studio so that it can be run locally and opened in your browser. This is now the preferred way to run Studio (rather than using the Desktop App as shown in the video). See documentation [here](https://docs.langchain.com/langsmith/studio#local-development-server) on the local development server. To start the local development server, run the following command in your terminal in the `/studio` directory in this module:\n",
    "\n",
    "```\n",
    "langgraph dev\n",
    "```\n",
    "\n",
    "You should see the following output:\n",
    "```\n",
    "- 🚀 API: http://127.0.0.1:2024\n",
    "- 🎨 Studio UI: https://smith.langchain.com/studio/?baseUrl=http://127.0.0.1:2024\n",
    "- 📚 API Docs: http://127.0.0.1:2024/docs\n",
    "```\n",
    "\n",
    "Open your browser and navigate to the Studio UI: `https://smith.langchain.com/studio/?baseUrl=http://127.0.0.1:2024`."
   ]
  },
  {
   "cell_type": "code",
   "execution_count": 22,
   "id": "b41d4491-612e-4698-aa60-de76277422bb",
   "metadata": {},
   "outputs": [],
   "source": [
    "from typing_extensions import Literal\n",
    "from langchain_groq import ChatGroq\n",
    "from langchain_core.messages import SystemMessage, HumanMessage, RemoveMessage\n",
    "from langgraph.graph import END\n",
    "from langgraph.graph import MessagesState\n",
    "\n",
    "model = ChatGroq(\n",
    "    model_name=\"llama-3.3-70b-versatile\",  # choose a Groq-supported model\n",
    "    temperature=0\n",
    ")\n",
    "\n",
    "class State(MessagesState):\n",
    "    summary: str\n",
    "\n",
    "def call_model(state: State):\n",
    "    # Get summary if it exists\n",
    "    summary = state.get(\"summary\", \"\")\n",
    "\n",
    "    # If there is a summary, add it as context\n",
    "    if summary:\n",
    "        system_message = f\"Summary of conversation earlier: {summary}\"\n",
    "        messages = [SystemMessage(content=system_message)] + state[\"messages\"]\n",
    "    else:\n",
    "        messages = state[\"messages\"]\n",
    "\n",
    "    response = model.invoke(messages)\n",
    "    return {\"messages\": response}\n",
    "\n",
    "\n",
    "# --- Summarize the conversation ---\n",
    "def summarize_conversation(state: State):\n",
    "    summary = state.get(\"summary\", \"\")\n",
    "\n",
    "    if summary:\n",
    "        summary_message = (\n",
    "            f\"This is a summary of the conversation to date: {summary}\\n\\n\"\n",
    "            \"Extend the summary by taking into account the new messages above:\"\n",
    "        )\n",
    "    else:\n",
    "        summary_message = \"Create a summary of the conversation above:\"\n",
    "\n",
    "    messages = state[\"messages\"] + [HumanMessage(content=summary_message)]\n",
    "    response = model.invoke(messages)\n",
    "\n",
    "    # Delete all but the 2 most recent messages\n",
    "    delete_messages = [RemoveMessage(id=m.id) for m in state[\"messages\"][:-2]]\n",
    "    return {\"summary\": response.content, \"messages\": delete_messages}\n",
    "\n",
    "\n",
    "def should_continue(state: State) -> Literal[\"summarize_conversation\", END]:\n",
    "    \"\"\"Return the next node to execute.\"\"\"\n",
    "    messages = state[\"messages\"]\n",
    "\n",
    "    if len(messages) > 4:\n",
    "        return \"summarize_conversation\"\n",
    "    return END\n"
   ]
  },
  {
   "cell_type": "code",
   "execution_count": 24,
   "id": "63272ed0-b83d-4270-a22e-e200a530216f",
   "metadata": {},
   "outputs": [],
   "source": [
    "from langgraph.graph import StateGraph, START, END\n",
    "from langgraph.checkpoint.memory import MemorySaver\n",
    "\n",
    "# Build the graph\n",
    "workflow = StateGraph(State)\n",
    "workflow.add_node(\"conversation\", call_model)\n",
    "workflow.add_node(\"summarize_conversation\", summarize_conversation)\n",
    "\n",
    "workflow.add_edge(START, \"conversation\")\n",
    "workflow.add_conditional_edges(\"conversation\", should_continue)\n",
    "workflow.add_edge(\"summarize_conversation\", END)\n",
    "\n",
    "# Add memory to persist conversations\n",
    "memory = MemorySaver()\n",
    "graph = workflow.compile(checkpointer=memory)\n"
   ]
  },
  {
   "cell_type": "code",
   "execution_count": 25,
   "id": "73419a88-70fc-403c-99fe-fb5fcd97958f",
   "metadata": {},
   "outputs": [
    {
     "data": {
      "image/png": "[encoded data removed]",
      "text/plain": [
       "<IPython.core.display.Image object>"
      ]
     },
     "metadata": {},
     "output_type": "display_data"
    }
   ],
   "source": [
    "from IPython.display import Image, display\n",
    "display(Image(graph.get_graph().draw_mermaid_png()))\n"
   ]
  },
  {
   "cell_type": "code",
   "execution_count": 26,
   "id": "5ffb193a-0825-4d88-a1ce-86870a8d81b0",
   "metadata": {},
   "outputs": [
    {
     "name": "stdout",
     "output_type": "stream",
     "text": [
      "==================================\u001b[1m Ai Message \u001b[0m==================================\n",
      "\n",
      "The P vs NP problem is a fundamental question in computer science, and tackling it requires a deep understanding of various topics in mathematics, computer science, and theoretical computer science. Here's a list of key areas to study:\n",
      "\n",
      "**Mathematics:**\n",
      "\n",
      "1. **Discrete mathematics**: Graph theory, combinatorics, number theory, and algebra.\n",
      "2. **Linear algebra**: Vector spaces, linear transformations, and eigenvalues.\n",
      "3. **Probability theory**: Random variables, probability distributions, and stochastic processes.\n",
      "4. **Combinatorial optimization**: Linear programming, integer programming, and convex optimization.\n",
      "\n",
      "**Computer Science:**\n",
      "\n",
      "1. **Algorithms**: Study of efficient algorithms, including sorting, searching, and graph algorithms.\n",
      "2. **Data structures**: Understanding of data structures like arrays, linked lists, trees, and graphs.\n",
      "3. **Computational complexity theory**: Study of the resources required to solve computational problems, including time and space complexity.\n",
      "4. **Formal language theory**: Understanding of regular languages, context-free languages, and Turing machines.\n",
      "\n",
      "**Theoretical Computer Science:**\n",
      "\n",
      "1. **Turing machines**: Study of the theoretical model of computation, including the halting problem and undecidability.\n",
      "2. **Reductions**: Understanding of polynomial-time reductions, including Cook reductions and Karp reductions.\n",
      "3. **NP-completeness**: Study of the class of problems that are at least as hard as the hardest problems in NP.\n",
      "4. **Cryptography**: Understanding of cryptographic techniques, including encryption, decryption, and digital signatures.\n",
      "\n",
      "**Specific Topics related to P vs NP:**\n",
      "\n",
      "1. **The Cook-Levin theorem**: A fundamental result that shows that SAT is NP-complete.\n",
      "2. **The PCP theorem**: A result that shows that every problem in NP has a probabilistically checkable proof.\n",
      "3. **The hierarchy of complexity classes**: Understanding of the relationships between different complexity classes, including P, NP, co-NP, and PH.\n",
      "4. **Lower bounds**: Study of techniques for proving lower bounds on the complexity of problems, including diagonalization and the method of conditional probabilities.\n",
      "\n",
      "**Recommended Resources:**\n",
      "\n",
      "1. **Textbooks**:\n",
      "\t* \"Introduction to Algorithms\" by Thomas H. Cormen\n",
      "\t* \"Computational Complexity: A Modern Approach\" by Sanjeev Arora and Boaz Barak\n",
      "\t* \"The Nature of Computation\" by Cristopher Moore and Stephan Mertens\n",
      "2. **Online Courses**:\n",
      "\t* \"Introduction to Computer Science in Python\" by Harvard University (edX)\n",
      "\t* \"Computational Complexity\" by Stanford University (Coursera)\n",
      "3. **Research Papers**:\n",
      "\t* \"The Complexity of Theorem-Proving Procedures\" by Stephen Cook (1971)\n",
      "\t* \"Some Simplified NP-Complete Graph Problems\" by Richard Karp (1972)\n",
      "\n",
      "Keep in mind that tackling the P vs NP problem is a significant undertaking, and it's essential to have a strong foundation in the underlying mathematics and computer science concepts. It's also important to stay up-to-date with the latest research and developments in the field.\n",
      "==================================\u001b[1m Ai Message \u001b[0m==================================\n",
      "\n",
      "The P vs NP problem is indeed one of the most challenging and fundamental problems in computer science, and it has resisted solution for over four decades. Many brilliant mathematicians and computer scientists have attempted to solve it, but so far, no one has been able to provide a proof or a counterexample.\n",
      "\n",
      "The problem is difficult for several reasons:\n",
      "\n",
      "1. **Lack of understanding of NP**: Despite much research, the nature of NP and the relationship between NP and P are still not well understood.\n",
      "2. **Difficulty in constructing reductions**: Proving that a problem is NP-complete requires constructing a reduction from a known NP-complete problem, which can be a challenging task.\n",
      "3. **Lack of techniques for proving lower bounds**: Proving that a problem is not in P requires showing that it has a lower bound on its computational complexity, which is a difficult task.\n",
      "4. **The problem is \"embarrassingly\" simple to state**: The P vs NP problem is easy to state, but its solution requires a deep understanding of the underlying mathematics and computer science concepts.\n",
      "\n",
      "Many experts believe that solving the P vs NP problem will require a fundamentally new insight or technique, rather than simply applying existing methods. Some have even suggested that the problem may be \"undecidable,\" meaning that it cannot be solved by any algorithm or formal system.\n",
      "\n",
      "The Clay Mathematics Institute has offered a $1 million prize to anyone who can provide a proof or counterexample to the P vs NP problem, which is one of the seven Millennium Prize Problems. Despite the significant attention and effort devoted to the problem, it remains one of the most important open problems in computer science.\n",
      "\n",
      "**Why is it important to solve?**\n",
      "\n",
      "Solving the P vs NP problem has significant implications for many areas of computer science, including:\n",
      "\n",
      "1. **Cryptography**: A proof that P=NP would imply that many cryptographic systems are insecure, while a proof that P≠NP would provide a foundation for secure cryptography.\n",
      "2. **Optimization**: A proof that P=NP would imply that many optimization problems can be solved efficiently, while a proof that P≠NP would imply that many optimization problems are inherently hard.\n",
      "3. **Artificial intelligence**: A proof that P=NP would imply that many AI problems can be solved efficiently, while a proof that P≠NP would imply that many AI problems are inherently hard.\n",
      "\n",
      "Overall, solving the P vs NP problem has the potential to revolutionize many areas of computer science and mathematics, and it remains one of the most exciting and challenging problems in the field.\n",
      "==================================\u001b[1m Ai Message \u001b[0m==================================\n",
      "\n",
      "With a degree in theoretical Computer Science, you have a solid foundation in the mathematical and computational aspects of computer science. Theoretical Computer Science is a fascinating field that explores the fundamental principles and limits of computation, and it's a great background for tackling complex problems like the P vs NP problem.\n",
      "\n",
      "As a theoretical Computer Scientist, you're likely familiar with concepts like:\n",
      "\n",
      "1. **Automata theory**: Finite automata, pushdown automata, and Turing machines.\n",
      "2. **Formal language theory**: Regular languages, context-free languages, and recursively enumerable languages.\n",
      "3. **Computational complexity theory**: Time and space complexity, reducibility, and complexity classes like P, NP, and NP-complete.\n",
      "4. **Algorithms**: Design and analysis of algorithms, including sorting, searching, and graph algorithms.\n",
      "5. **Discrete mathematics**: Graph theory, combinatorics, and number theory.\n",
      "\n",
      "With this background, you're well-equipped to explore advanced topics in theoretical Computer Science, including:\n",
      "\n",
      "1. **Cryptography**: Study of secure encryption and decryption methods, including public-key cryptography and cryptographic protocols.\n",
      "2. **Quantum computing**: Exploration of quantum algorithms, quantum complexity theory, and quantum information processing.\n",
      "3. **Machine learning theory**: Study of the theoretical foundations of machine learning, including learnability, PAC-learning, and VC-dimension.\n",
      "4. **Computational geometry**: Study of algorithms and data structures for geometric problems, including convex hulls, Voronoi diagrams, and geometric searching.\n",
      "\n",
      "If you're interested in tackling the P vs NP problem, you may want to explore some of the following research areas:\n",
      "\n",
      "1. **NP-completeness**: Study of NP-complete problems, including SAT, 3-SAT, and other classic problems.\n",
      "2. **Approximation algorithms**: Development of approximation algorithms for NP-hard problems, including approximation schemes and hardness of approximation.\n",
      "3. **Pseudorandomness**: Study of pseudorandom generators, including their construction and applications to cryptography and derandomization.\n",
      "4. **Lower bounds**: Development of techniques for proving lower bounds on the complexity of problems, including diagonalization, the method of conditional probabilities, and the PCP theorem.\n",
      "\n",
      "Some recommended resources for further study include:\n",
      "\n",
      "1. **Textbooks**:\n",
      "\t* \"Computational Complexity: A Modern Approach\" by Sanjeev Arora and Boaz Barak\n",
      "\t* \"The Nature of Computation\" by Cristopher Moore and Stephan Mertens\n",
      "2. **Research papers**:\n",
      "\t* \"The Complexity of Theorem-Proving Procedures\" by Stephen Cook (1971)\n",
      "\t* \"Some Simplified NP-Complete Graph Problems\" by Richard Karp (1972)\n",
      "3. **Online courses**:\n",
      "\t* \"Computational Complexity\" by Stanford University (Coursera)\n",
      "\t* \"Introduction to Quantum Computing\" by Microsoft (edX)\n",
      "\n",
      "Remember, tackling the P vs NP problem is a significant undertaking, and it's essential to stay up-to-date with the latest research and developments in the field. You may also want to consider collaborating with other researchers or joining online communities to discuss and explore new ideas.\n",
      "\n",
      "What specific areas of theoretical Computer Science interest you the most, and how do you think you can contribute to the field?\n",
      "==================================\u001b[1m Ai Message \u001b[0m==================================\n",
      "\n",
      "Mathematics is a fundamental aspect of theoretical Computer Science, and having a strong mathematical background can be incredibly beneficial for tackling complex problems like the P vs NP problem.\n",
      "\n",
      "As a theoretical Computer Scientist with a degree in the field, you're likely familiar with various mathematical concepts, such as:\n",
      "\n",
      "1. **Linear algebra**: Vector spaces, linear transformations, and matrix operations.\n",
      "2. **Group theory**: Groups, rings, and fields, which are essential for understanding symmetry and algebraic structures.\n",
      "3. **Number theory**: Properties of integers, modular arithmetic, and Diophantine equations.\n",
      "4. **Combinatorics**: Permutations, combinations, and graph theory, which are crucial for understanding discrete structures.\n",
      "5. **Probability theory**: Random variables, probability distributions, and stochastic processes, which are essential for understanding randomness and uncertainty.\n",
      "\n",
      "To delve deeper into mathematics, you may want to explore some of the following areas:\n",
      "\n",
      "1. **Algebraic geometry**: Study of geometric objects using algebraic techniques, which has connections to computer science, particularly in cryptography and coding theory.\n",
      "2. **Topology**: Study of shapes and spaces, which has applications in computer science, particularly in network topology and geometric computing.\n",
      "3. **Category theory**: Study of mathematical structures and their relationships, which has connections to computer science, particularly in programming languages and software design.\n",
      "4. **Model theory**: Study of mathematical models and their properties, which has applications in computer science, particularly in database theory and artificial intelligence.\n",
      "5. **Measure theory**: Study of mathematical measures and their properties, which has connections to computer science, particularly in probability theory and stochastic processes.\n",
      "\n",
      "Some recommended resources for further study in mathematics include:\n",
      "\n",
      "1. **Textbooks**:\n",
      "\t* \"Linear Algebra and Its Applications\" by Gilbert Strang\n",
      "\t* \"Abstract Algebra\" by David S. Dummit and Richard M. Foote\n",
      "\t* \"Introduction to Probability\" by Joseph K. Blitzstein and Jessica Hwang\n",
      "2. **Online courses**:\n",
      "\t* \"Linear Algebra\" by MIT OpenCourseWare (MIT OCW)\n",
      "\t* \"Abstract Algebra\" by University of California, Berkeley (edX)\n",
      "\t* \"Probability and Statistics\" by Stanford University (Coursera)\n",
      "3. **Research papers**:\n",
      "\t* \"The Geometry of Numbers\" by Hermann Minkowski (1910)\n",
      "\t* \"A Mathematical Theory of Communication\" by Claude E. Shannon (1948)\n",
      "\n",
      "Remember, mathematics is a vast and fascinating field, and there's always more to learn and discover. By exploring different areas of mathematics, you can gain a deeper understanding of the underlying principles and develop new insights that can be applied to computer science and other fields.\n",
      "\n",
      "What specific areas of mathematics interest you the most, and how do you think you can apply mathematical concepts to computer science problems?\n"
     ]
    }
   ],
   "source": [
    "# Create a thread\n",
    "config = {\"configurable\": {\"thread_id\": \"Maths research\"}}\n",
    "\n",
    "# Start conversation\n",
    "input_message = HumanMessage(content=\"Hi, could you please tell me the topics I would need to learn to try to solve the P vs NP problem\")\n",
    "output = graph.invoke({\"messages\": [input_message]}, config)\n",
    "for m in output['messages'][-1:]:\n",
    "    m.pretty_print()\n",
    "\n",
    "input_message = HumanMessage(content=\"It's very difficult to solve\")\n",
    "output = graph.invoke({\"messages\": [input_message]}, config)\n",
    "for m in output['messages'][-1:]:\n",
    "    m.pretty_print()\n",
    "\n",
    "input_message = HumanMessage(content=\"I have a degree in theoretical Computer Science\")\n",
    "output = graph.invoke({\"messages\": [input_message]}, config)\n",
    "for m in output['messages'][-1:]:\n",
    "    m.pretty_print()\n",
    "\n",
    "input_message = HumanMessage(content=\"Yes, I've tried going into Maths\")\n",
    "output = graph.invoke({\"messages\": [input_message]}, config)\n",
    "for m in output['messages'][-1:]:\n",
    "    m.pretty_print()"
   ]
  },
  {
   "cell_type": "code",
   "execution_count": 27,
   "id": "f29a36f5-0d8f-48a8-bdcd-af06ed72e7c7",
   "metadata": {},
   "outputs": [
    {
     "name": "stdout",
     "output_type": "stream",
     "text": [
      "Here's a summary of our conversation:\n",
      "\n",
      "* We discussed the P vs NP problem, a fundamental question in computer science that deals with the relationship between computational complexity and verifiability.\n",
      "* I provided a list of topics to study in order to tackle the P vs NP problem, including mathematics, computer science, and theoretical computer science concepts.\n",
      "* We acknowledged that solving the P vs NP problem is extremely challenging and has resisted solution for over four decades, despite significant attention and effort from experts in the field.\n",
      "* You mentioned that you have a degree in theoretical Computer Science, which provides a solid foundation for exploring advanced topics in the field, including cryptography, quantum computing, and machine learning theory.\n",
      "* I recommended some research areas and resources for further study, including NP-completeness, approximation algorithms, pseudorandomness, and lower bounds, as well as textbooks, research papers, and online courses.\n",
      "\n",
      "Overall, our conversation highlighted the complexity and significance of the P vs NP problem, and the importance of having a strong foundation in theoretical Computer Science in order to tackle it.\n"
     ]
    }
   ],
   "source": [
    "summary = graph.get_state(config).values.get(\"summary\", \"\")\n",
    "print(summary)"
   ]
  },
  {
   "cell_type": "code",
   "execution_count": 28,
   "id": "7dd50c24-d190-471e-86ec-a7a8bae2ff40",
   "metadata": {},
   "outputs": [
    {
     "name": "stdout",
     "output_type": "stream",
     "text": [
      "==================================\u001b[1m Ai Message \u001b[0m==================================\n",
      "\n",
      "The resources I mentioned earlier are a collection of textbooks, online courses, and research papers that can help you deepen your understanding of mathematics and theoretical computer science. Here's a more detailed explanation of each:\n",
      "\n",
      "**Textbooks:**\n",
      "\n",
      "1. **\"Linear Algebra and Its Applications\" by Gilbert Strang**: This textbook provides a comprehensive introduction to linear algebra, covering topics such as vector spaces, linear transformations, and matrix operations. It's a great resource for understanding the mathematical foundations of computer science.\n",
      "2. **\"Abstract Algebra\" by David S. Dummit and Richard M. Foote**: This textbook provides a thorough introduction to abstract algebra, covering topics such as group theory, ring theory, and field theory. It's a great resource for understanding the mathematical structures that underlie computer science.\n",
      "3. **\"Introduction to Probability\" by Joseph K. Blitzstein and Jessica Hwang**: This textbook provides a comprehensive introduction to probability theory, covering topics such as random variables, probability distributions, and stochastic processes. It's a great resource for understanding the mathematical foundations of machine learning and data analysis.\n",
      "\n",
      "**Online Courses:**\n",
      "\n",
      "1. **\"Linear Algebra\" by MIT OpenCourseWare (MIT OCW)**: This online course provides a comprehensive introduction to linear algebra, covering topics such as vector spaces, linear transformations, and matrix operations. It's a great resource for learning linear algebra from one of the world's top universities.\n",
      "2. **\"Abstract Algebra\" by University of California, Berkeley (edX)**: This online course provides a thorough introduction to abstract algebra, covering topics such as group theory, ring theory, and field theory. It's a great resource for learning abstract algebra from one of the world's top universities.\n",
      "3. **\"Probability and Statistics\" by Stanford University (Coursera)**: This online course provides a comprehensive introduction to probability theory and statistics, covering topics such as random variables, probability distributions, and stochastic processes. It's a great resource for learning probability and statistics from one of the world's top universities.\n",
      "\n",
      "**Research Papers:**\n",
      "\n",
      "1. **\"The Geometry of Numbers\" by Hermann Minkowski (1910)**: This research paper provides a foundational introduction to the geometry of numbers, which has had a profound impact on computer science and mathematics. It's a great resource for understanding the mathematical foundations of computer science.\n",
      "2. **\"A Mathematical Theory of Communication\" by Claude E. Shannon (1948)**: This research paper provides a foundational introduction to information theory, which has had a profound impact on computer science and communication engineering. It's a great resource for understanding the mathematical foundations of communication and data transmission.\n",
      "\n",
      "**Additional Resources:**\n",
      "\n",
      "1. **arXiv**: arXiv is an online repository of electronic preprints in physics, mathematics, computer science, and related disciplines. It's a great resource for staying up-to-date with the latest research in mathematics and computer science.\n",
      "2. **MathOverflow**: MathOverflow is a question-and-answer website for mathematicians, where you can ask and answer questions about mathematics. It's a great resource for getting help with mathematical problems and learning from other mathematicians.\n",
      "3. **Stack Exchange**: Stack Exchange is a network of question-and-answer websites, including Mathematics Stack Exchange and Theoretical Computer Science Stack Exchange. It's a great resource for getting help with mathematical and computer science problems and learning from other experts.\n",
      "\n",
      "I hope this helps! Let me know if you have any other questions or need further clarification.\n"
     ]
    }
   ],
   "source": [
    "input_message = HumanMessage(content=\"Could you elaborate on the resources part?\")\n",
    "output = graph.invoke({\"messages\": [input_message]}, config)\n",
    "for m in output['messages'][-1:]:\n",
    "    m.pretty_print()"
   ]
  },
  {
   "cell_type": "code",
   "execution_count": 29,
   "id": "f09a0514-81a5-4dba-9a6d-8112210d95dd",
   "metadata": {},
   "outputs": [
    {
     "name": "stdout",
     "output_type": "stream",
     "text": [
      "Here's an extended summary of our conversation:\n",
      "\n",
      "* We discussed the P vs NP problem, a fundamental question in computer science that deals with the relationship between computational complexity and verifiability.\n",
      "* I provided a list of topics to study in order to tackle the P vs NP problem, including mathematics, computer science, and theoretical computer science concepts.\n",
      "* We acknowledged that solving the P vs NP problem is extremely challenging and has resisted solution for over four decades, despite significant attention and effort from experts in the field.\n",
      "* You mentioned that you have a degree in theoretical Computer Science, which provides a solid foundation for exploring advanced topics in the field, including cryptography, quantum computing, and machine learning theory.\n",
      "* I recommended some research areas and resources for further study, including NP-completeness, approximation algorithms, pseudorandomness, and lower bounds, as well as textbooks, research papers, and online courses.\n",
      "* We also discussed the importance of mathematics in theoretical computer science, and I recommended some areas of mathematics to explore, including linear algebra, abstract algebra, number theory, combinatorics, and probability theory.\n",
      "* I provided some specific resources for further study, including textbooks such as \"Linear Algebra and Its Applications\" by Gilbert Strang, \"Abstract Algebra\" by David S. Dummit and Richard M. Foote, and \"Introduction to Probability\" by Joseph K. Blitzstein and Jessica Hwang.\n",
      "* I also recommended some online courses, including \"Linear Algebra\" by MIT OpenCourseWare, \"Abstract Algebra\" by University of California, Berkeley, and \"Probability and Statistics\" by Stanford University.\n",
      "* Additionally, I suggested some research papers to read, including \"The Geometry of Numbers\" by Hermann Minkowski and \"A Mathematical Theory of Communication\" by Claude E. Shannon.\n",
      "* Finally, I mentioned some online resources, including arXiv, MathOverflow, and Stack Exchange, which can be useful for staying up-to-date with the latest research and getting help with mathematical and computer science problems.\n",
      "\n",
      "Overall, our conversation highlighted the complexity and significance of the P vs NP problem, and the importance of having a strong foundation in theoretical Computer Science and mathematics in order to tackle it. We also discussed some specific research areas and resources that can be useful for further study and exploration.\n"
     ]
    }
   ],
   "source": [
    "summary = graph.get_state(config).values.get(\"summary\", \"\")\n",
    "print(summary)"
   ]
  },
  {
   "cell_type": "code",
   "execution_count": 30,
   "id": "7b03ed94-7182-4074-a02c-9426656b98d7",
   "metadata": {},
   "outputs": [
    {
     "data": {
      "text/plain": [
       "StateSnapshot(values={'messages': [HumanMessage(content='Could you elaborate on the resources part?', additional_kwargs={}, response_metadata={}, id='679cd2e3-2eaa-49e4-a3fb-5671c18e8d88'), AIMessage(content='The resources I mentioned earlier are a collection of textbooks, online courses, and research papers that can help you deepen your understanding of mathematics and theoretical computer science. Here\\'s a more detailed explanation of each:\\n\\n**Textbooks:**\\n\\n1. **\"Linear Algebra and Its Applications\" by Gilbert Strang**: This textbook provides a comprehensive introduction to linear algebra, covering topics such as vector spaces, linear transformations, and matrix operations. It\\'s a great resource for understanding the mathematical foundations of computer science.\\n2. **\"Abstract Algebra\" by David S. Dummit and Richard M. Foote**: This textbook provides a thorough introduction to abstract algebra, covering topics such as group theory, ring theory, and field theory. It\\'s a great resource for understanding the mathematical structures that underlie computer science.\\n3. **\"Introduction to Probability\" by Joseph K. Blitzstein and Jessica Hwang**: This textbook provides a comprehensive introduction to probability theory, covering topics such as random variables, probability distributions, and stochastic processes. It\\'s a great resource for understanding the mathematical foundations of machine learning and data analysis.\\n\\n**Online Courses:**\\n\\n1. **\"Linear Algebra\" by MIT OpenCourseWare (MIT OCW)**: This online course provides a comprehensive introduction to linear algebra, covering topics such as vector spaces, linear transformations, and matrix operations. It\\'s a great resource for learning linear algebra from one of the world\\'s top universities.\\n2. **\"Abstract Algebra\" by University of California, Berkeley (edX)**: This online course provides a thorough introduction to abstract algebra, covering topics such as group theory, ring theory, and field theory. It\\'s a great resource for learning abstract algebra from one of the world\\'s top universities.\\n3. **\"Probability and Statistics\" by Stanford University (Coursera)**: This online course provides a comprehensive introduction to probability theory and statistics, covering topics such as random variables, probability distributions, and stochastic processes. It\\'s a great resource for learning probability and statistics from one of the world\\'s top universities.\\n\\n**Research Papers:**\\n\\n1. **\"The Geometry of Numbers\" by Hermann Minkowski (1910)**: This research paper provides a foundational introduction to the geometry of numbers, which has had a profound impact on computer science and mathematics. It\\'s a great resource for understanding the mathematical foundations of computer science.\\n2. **\"A Mathematical Theory of Communication\" by Claude E. Shannon (1948)**: This research paper provides a foundational introduction to information theory, which has had a profound impact on computer science and communication engineering. It\\'s a great resource for understanding the mathematical foundations of communication and data transmission.\\n\\n**Additional Resources:**\\n\\n1. **arXiv**: arXiv is an online repository of electronic preprints in physics, mathematics, computer science, and related disciplines. It\\'s a great resource for staying up-to-date with the latest research in mathematics and computer science.\\n2. **MathOverflow**: MathOverflow is a question-and-answer website for mathematicians, where you can ask and answer questions about mathematics. It\\'s a great resource for getting help with mathematical problems and learning from other mathematicians.\\n3. **Stack Exchange**: Stack Exchange is a network of question-and-answer websites, including Mathematics Stack Exchange and Theoretical Computer Science Stack Exchange. It\\'s a great resource for getting help with mathematical and computer science problems and learning from other experts.\\n\\nI hope this helps! Let me know if you have any other questions or need further clarification.', additional_kwargs={}, response_metadata={'token_usage': {'completion_tokens': 702, 'prompt_tokens': 1520, 'total_tokens': 2222, 'completion_time': 1.310093961, 'prompt_time': 0.136639588, 'queue_time': 0.240112672, 'total_time': 1.446733549}, 'model_name': 'llama-3.3-70b-versatile', 'system_fingerprint': 'fp_4cfc2deea6', 'service_tier': 'on_demand', 'finish_reason': 'stop', 'logprobs': None}, id='run--5abc2fb1-0cc4-453e-bc96-069a0ac35dba-0', usage_metadata={'input_tokens': 1520, 'output_tokens': 702, 'total_tokens': 2222})], 'summary': 'Here\\'s an extended summary of our conversation:\\n\\n* We discussed the P vs NP problem, a fundamental question in computer science that deals with the relationship between computational complexity and verifiability.\\n* I provided a list of topics to study in order to tackle the P vs NP problem, including mathematics, computer science, and theoretical computer science concepts.\\n* We acknowledged that solving the P vs NP problem is extremely challenging and has resisted solution for over four decades, despite significant attention and effort from experts in the field.\\n* You mentioned that you have a degree in theoretical Computer Science, which provides a solid foundation for exploring advanced topics in the field, including cryptography, quantum computing, and machine learning theory.\\n* I recommended some research areas and resources for further study, including NP-completeness, approximation algorithms, pseudorandomness, and lower bounds, as well as textbooks, research papers, and online courses.\\n* We also discussed the importance of mathematics in theoretical computer science, and I recommended some areas of mathematics to explore, including linear algebra, abstract algebra, number theory, combinatorics, and probability theory.\\n* I provided some specific resources for further study, including textbooks such as \"Linear Algebra and Its Applications\" by Gilbert Strang, \"Abstract Algebra\" by David S. Dummit and Richard M. Foote, and \"Introduction to Probability\" by Joseph K. Blitzstein and Jessica Hwang.\\n* I also recommended some online courses, including \"Linear Algebra\" by MIT OpenCourseWare, \"Abstract Algebra\" by University of California, Berkeley, and \"Probability and Statistics\" by Stanford University.\\n* Additionally, I suggested some research papers to read, including \"The Geometry of Numbers\" by Hermann Minkowski and \"A Mathematical Theory of Communication\" by Claude E. Shannon.\\n* Finally, I mentioned some online resources, including arXiv, MathOverflow, and Stack Exchange, which can be useful for staying up-to-date with the latest research and getting help with mathematical and computer science problems.\\n\\nOverall, our conversation highlighted the complexity and significance of the P vs NP problem, and the importance of having a strong foundation in theoretical Computer Science and mathematics in order to tackle it. We also discussed some specific research areas and resources that can be useful for further study and exploration.'}, next=(), config={'configurable': {'thread_id': 'Maths research', 'checkpoint_ns': '', 'checkpoint_id': '1f0b1a7f-406a-6dbc-800f-8bbfc6e7a6bb'}}, metadata={'source': 'loop', 'step': 15, 'parents': {}}, created_at='2025-10-25T13:38:56.021789+00:00', parent_config={'configurable': {'thread_id': 'Maths research', 'checkpoint_ns': '', 'checkpoint_id': '1f0b1a7f-3329-61a3-800e-b1f3e8b33806'}}, tasks=(), interrupts=())"
      ]
     },
     "execution_count": 30,
     "metadata": {},
     "output_type": "execute_result"
    }
   ],
   "source": [
    "config = {\"configurable\": {\"thread_id\": \"Maths research\"}}\n",
    "graph_state = graph.get_state(config)\n",
    "graph_state"
   ]
  },
  {
   "cell_type": "code",
   "execution_count": null,
   "id": "d304b971-5b8c-4082-88b8-b75a4c09ee44",
   "metadata": {},
   "outputs": [],
   "source": []
  }
 ],
 "metadata": {
  "kernelspec": {
   "display_name": "Python 3 (ipykernel)",
   "language": "python",
   "name": "python3"
  },
  "language_info": {
   "codemirror_mode": {
    "name": "ipython",
    "version": 3
   },
   "file_extension": ".py",
   "mimetype": "text/x-python",
   "name": "python",
   "nbconvert_exporter": "python",
   "pygments_lexer": "ipython3",
   "version": "3.13.0"
  }
 },
 "nbformat": 4,
 "nbformat_minor": 5
}
